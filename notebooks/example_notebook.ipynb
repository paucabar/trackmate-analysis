{
 "cells": [
  {
   "cell_type": "code",
   "execution_count": null,
   "id": "ac47dcea",
   "metadata": {},
   "outputs": [],
   "source": [
    "from trackmate_analysis.io import (\n",
    "    parse_trackmate_xml,\n",
    "    extract_image_metadata,\n",
    "    extract_edges_from_xml,\n",
    "    extract_track_filters\n",
    ")\n",
    "from trackmate_analysis.tracks import (\n",
    "    filter_spots_in_tracks,\n",
    "    filter_spots_by_duration,\n",
    "    filter_tracks_by_duration,\n",
    ")\n",
    "from trackmate_analysis.lineage import (\n",
    "    detect_split_events, promote_split_children,\n",
    "    build_track_lineage_from_splits,\n",
    ")\n",
    "from trackmate_analysis.plotting import (\n",
    "    plot_trajectories, plot_track_histograms,\n",
    "    plot_features_over_time,\n",
    ")\n",
    "\n",
    "import matplotlib.pyplot as plt"
   ]
  },
  {
   "cell_type": "code",
   "execution_count": null,
   "id": "c22161cd",
   "metadata": {},
   "outputs": [],
   "source": [
    "xml_file = r\"YOUR_XML_FILE\"\n",
    "\n",
    "meta = extract_image_metadata(xml_file)\n",
    "print(meta)\n",
    "\n",
    "spots_df, track_stats = parse_trackmate_xml(xml_file)"
   ]
  },
  {
   "cell_type": "code",
   "execution_count": null,
   "id": "8745021f",
   "metadata": {},
   "outputs": [],
   "source": [
    "track_stats.head()"
   ]
  },
  {
   "cell_type": "code",
   "execution_count": null,
   "id": "aa8370f3",
   "metadata": {},
   "outputs": [],
   "source": [
    "# Access individual metadata\n",
    "print(\"Image:\", meta[\"filename\"])\n",
    "print(\"Frames:\", meta[\"nframes\"])\n",
    "print(\"Slices:\", meta[\"nslices\"])\n",
    "print(\"Pixel size:\", meta[\"pixelwidth\"], \"x\", meta[\"pixelheight\"])\n",
    "print(\"Voxel depth:\", meta[\"voxeldepth\"])\n",
    "print(\"Image width:\", meta[\"width\"])\n",
    "print(\"Image height:\", meta[\"height\"])\n",
    "print(\"Time interval:\", meta[\"timeinterval\"])"
   ]
  },
  {
   "cell_type": "code",
   "execution_count": null,
   "id": "f4d1c384",
   "metadata": {},
   "outputs": [],
   "source": [
    "# Plot\n",
    "plot_trajectories(spots_df, width=meta.get(\"width\"), height=meta.get(\"height\"))\n",
    "plot_track_histograms(track_stats)"
   ]
  },
  {
   "cell_type": "code",
   "execution_count": null,
   "id": "df8f3eec",
   "metadata": {},
   "outputs": [],
   "source": [
    "# Track filters\n",
    "filters_df = extract_track_filters(xml_file)\n",
    "display(filters_df)"
   ]
  },
  {
   "cell_type": "code",
   "execution_count": null,
   "id": "f94ff863",
   "metadata": {},
   "outputs": [],
   "source": [
    "# Filter\n",
    "spots_df = filter_spots_in_tracks(spots_df, track_stats)\n",
    "spots_df = filter_spots_by_duration(spots_df, track_stats, min_duration=4, max_duration=None)\n",
    "track_stats = filter_tracks_by_duration(track_stats, min_duration=4, max_duration=None)"
   ]
  },
  {
   "cell_type": "code",
   "execution_count": null,
   "id": "f3a6820e",
   "metadata": {},
   "outputs": [],
   "source": [
    "# Plot clean\n",
    "plot_trajectories(spots_df, width=meta.get(\"width\"), height=meta.get(\"height\"))\n",
    "plot_track_histograms(track_stats)"
   ]
  },
  {
   "cell_type": "code",
   "execution_count": null,
   "id": "8de79854",
   "metadata": {},
   "outputs": [],
   "source": [
    "# Lineage & splits\n",
    "edges_df = extract_edges_from_xml(xml_file)\n",
    "splits_df = detect_split_events(spots_df, edges_df)\n",
    "spots_df = promote_split_children(spots_df, edges_df)\n",
    "G, splits_df = build_track_lineage_from_splits(spots_df, edges_df)"
   ]
  },
  {
   "cell_type": "code",
   "execution_count": null,
   "id": "c3e1e457",
   "metadata": {},
   "outputs": [],
   "source": [
    "# Features over time\n",
    "fig, axs = plot_features_over_time(\n",
    "    spots_df, track_id=1,\n",
    "    features=[\"CIRCULARITY\", \"MEAN_INTENSITY_CH2\"],\n",
    "    lineage_graph=G,\n",
    "    nframes=int(meta.get(\"nframes\", 0)),\n",
    ")\n",
    "plt.show()"
   ]
  },
  {
   "cell_type": "code",
   "execution_count": null,
   "id": "95c18f3c",
   "metadata": {},
   "outputs": [],
   "source": [
    "# Loop over all tracks\n",
    "for tid in spots_df.loc[~spots_df[\"is_pseudo\"], \"track_id\"].dropna().unique():\n",
    "    fig, axs = plot_features_over_time(\n",
    "        spots_df,\n",
    "        track_id=int(tid),\n",
    "        features=[\"MEAN_INTENSITY_CH2\", \"CIRCULARITY\"],\n",
    "        lineage_graph=G,\n",
    "        nframes=int(meta.get(\"nframes\", 0)),\n",
    "    )\n",
    "    plt.show()"
   ]
  }
 ],
 "metadata": {
  "kernelspec": {
   "display_name": "trackmate_env",
   "language": "python",
   "name": "python3"
  },
  "language_info": {
   "codemirror_mode": {
    "name": "ipython",
    "version": 3
   },
   "file_extension": ".py",
   "mimetype": "text/x-python",
   "name": "python",
   "nbconvert_exporter": "python",
   "pygments_lexer": "ipython3",
   "version": "3.10.18"
  }
 },
 "nbformat": 4,
 "nbformat_minor": 5
}
