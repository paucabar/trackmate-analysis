{
 "cells": [
  {
   "cell_type": "code",
   "execution_count": null,
   "id": "c15aa39b",
   "metadata": {},
   "outputs": [],
   "source": [
    "from trackmate_analysis.io import parse_trackmate_xml, extract_edges_from_xml\n",
    "from trackmate_analysis.evaluation import compute_tra"
   ]
  },
  {
   "cell_type": "code",
   "execution_count": null,
   "id": "c27240d5",
   "metadata": {},
   "outputs": [],
   "source": [
    "gt_xml_file = r\"YOUR_GT_XML\"\n",
    "pr_xml_file = r\"YOUR_PR_XML\""
   ]
  },
  {
   "cell_type": "code",
   "execution_count": null,
   "id": "16239f70",
   "metadata": {},
   "outputs": [],
   "source": [
    "# Load GT and prediction spots and edges\n",
    "gt_spots, _ = parse_trackmate_xml(gt_xml_file)\n",
    "pr_spots, _ = parse_trackmate_xml(pr_xml_file)\n",
    "gt_edges = extract_edges_from_xml(gt_xml_file)\n",
    "pr_edges = extract_edges_from_xml(pr_xml_file)"
   ]
  },
  {
   "cell_type": "code",
   "execution_count": null,
   "id": "bb038dd0",
   "metadata": {},
   "outputs": [],
   "source": [
    "# Ensure consistent column names\n",
    "required_cols = ['frame','POSITION_X','POSITION_Y','track_id']\n",
    "assert all(c in gt_spots.columns for c in required_cols)"
   ]
  },
  {
   "cell_type": "code",
   "execution_count": null,
   "id": "81944a13",
   "metadata": {},
   "outputs": [],
   "source": [
    "# Evaluate\n",
    "res = compute_tra(gt_spots, pr_spots, gt_edges, pr_edges, distance_thresh=5.0)\n",
    "print(res)"
   ]
  }
 ],
 "metadata": {
  "kernelspec": {
   "display_name": "trackmate_env",
   "language": "python",
   "name": "python3"
  },
  "language_info": {
   "codemirror_mode": {
    "name": "ipython",
    "version": 3
   },
   "file_extension": ".py",
   "mimetype": "text/x-python",
   "name": "python",
   "nbconvert_exporter": "python",
   "pygments_lexer": "ipython3",
   "version": "3.10.18"
  }
 },
 "nbformat": 4,
 "nbformat_minor": 5
}
